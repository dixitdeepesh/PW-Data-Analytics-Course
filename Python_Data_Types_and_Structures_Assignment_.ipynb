{
  "nbformat": 4,
  "nbformat_minor": 0,
  "metadata": {
    "colab": {
      "provenance": []
    },
    "kernelspec": {
      "name": "python3",
      "display_name": "Python 3"
    },
    "language_info": {
      "name": "python"
    }
  },
  "cells": [
    {
      "cell_type": "markdown",
      "source": [
        "\n",
        "# Data Types and Structures in Python:\n",
        "\n",
        "---\n",
        "### Assignment\n",
        "\n",
        "## 1. What are data structures, and why are they important?\n",
        "  - Data structures are systematic ways to organize, store, and manage data in a computer so it can be used efficiently. They help programmers process data logically and perform operations such as searching, sorting, insertion, and deletion in optimized ways. Without suitable data structures, even simple tasks would require excessive time and resources. Common examples include lists, dictionaries, sets, queues, and stacks. Each has its own strengths depending on the problem at hand. Choosing the right data structure leads to faster algorithms, better memory management, and cleaner, maintainable code. Data structures are crucial for real-world applications like databases, operating systems, and AI.\n",
        "\n",
        "## 2. Explain the difference between mutable and immutable data types with examples.\n",
        " - In Python, data types can be classified as mutable or immutable based on whether their values can be changed after creation. Mutable data types allow modification without creating a new object. Examples include list, set, and dictionary. You can add, remove, or alter elements of a list after it is created. Immutable data types, however, cannot be changed after creation. Examples include int, float, str, and tuple. Any modification creates a new object in memory. For instance, modifying a string results in a new string being created, leaving the original unchanged. This distinction affects how variables behave in functions.\n",
        "\n",
        "## 3. What are the main differences between lists and tuples in Python?\n",
        " - The primary difference between lists and tuples in Python is mutability. Lists are mutable, meaning their elements can be changed after creation by adding, removing, or modifying elements. Tuples are immutable, so once created, their values cannot be changed. Lists are created using square brackets [], while tuples use parentheses (). Lists are typically used when the data needs to be modified over time, whereas tuples are useful for storing fixed data like GPS coordinates or days of the week. Additionally, tuples are slightly faster in performance and can be used as dictionary keys, while lists cannot.\n",
        "\n",
        "## 4. Describe how dictionaries store data.\n",
        " - Dictionaries in Python store data as key-value pairs. Each unique key is associated with a specific value. Internally, Python uses a hash table to manage these pairs. The key is processed through a hash function, producing a unique hash code that determines where the associated value will be stored. This system allows for efficient retrieval, insertion, and deletion of data. Unlike sequences like lists or tuples, dictionaries are accessed by keys, not numeric indices. This makes them especially suitable for applications where data is identified by names or identifiers, like a student’s record or product details.\n",
        "\n",
        "## 5. Why might you use a set instead of a list in Python?\n",
        " - A set is a collection of unordered, unique elements in Python. You might use a set instead of a list when you need to store unique items and avoid duplicates automatically. For example, collecting distinct usernames or unique product IDs from a list with potential duplicates is more efficient with a set. Sets also offer faster membership testing (in operation) than lists because they’re implemented using hash tables. While lists maintain order and allow duplicates, sets prioritize uniqueness and efficiency. Sets support operations like union, intersection, and difference, which are especially helpful in mathematical or data comparison tasks.\n",
        "\n",
        "## 6. What is a string in Python, and how is it different from a list?\n",
        " - A string in Python is an immutable sequence of Unicode characters, whereas a list is a mutable sequence of elements that can be of any data type, including numbers, strings, or other lists. Strings are created using quotes ('Hello' or \"World\"), while lists use square brackets ([1, 2, 3]). The key difference lies in mutability: a string’s content cannot be changed after creation, but a list can be modified freely. While both support indexing and slicing, only lists can be dynamically altered. Strings are optimized for text data, while lists are versatile containers for mixed data.\n",
        "\n",
        "## 7. How do tuples ensure data integrity in Python?\n",
        "- Tuples are immutable data types in Python, meaning their contents cannot be changed once created. This immutability ensures data integrity, especially when data should remain constant throughout the program. Since their values cannot be altered, they help prevent accidental modifications, making them ideal for fixed data such as geographical coordinates, dates, or configuration settings. Additionally, because tuples are hashable (if containing only hashable elements), they can be used as keys in dictionaries, adding to their reliability. Their immutability enhances security in applications where the consistency of data is critical and must remain unchanged.\n",
        "\n",
        "## 8. What is a hash table, and how does it relate to dictionaries in Python?\n",
        " - A hash table is a data structure that maps keys to values through a process called hashing. In this process, a hash function converts a key into a unique integer (hash code), which determines where the corresponding value is stored in memory. Python’s dictionary implementation is based on hash tables. Each key-value pair is stored at a location determined by the hash of its key, which enables fast, constant-time access on average. This efficient lookup mechanism makes dictionaries highly suitable for cases where quick data retrieval based on unique keys is essential, like configurations or user profiles.\n",
        "\n",
        "## 9. Can lists contain different data types in Python?\n",
        "- Yes, Python’s lists are versatile and can contain elements of different data types within the same list. Unlike many statically typed languages where lists must be homogeneous, Python allows mixing integers, strings, floats, lists, or even other complex objects in a single list. For example: [1, 'Hello', 3.14, [2, 3]] is a valid list in Python. This flexibility makes lists a powerful and convenient data structure for storing related but differently typed data. However, while this enhances versatility, it requires careful handling when performing type-specific operations to avoid type-related errors at runtime.\n",
        "\n",
        "## 10. Explain why strings are immutable in Python\n",
        "- In Python, strings are considered immutable because once a string is created, it cannot be altered. Any operation that seems to modify a string actually creates a new string object in memory with the modified content, while the original string remains unchanged. This design choice enhances security, consistency, and performance, especially when strings are used as dictionary keys or in hashed collections where the object’s value must remain constant. Immutability also allows string objects to be safely shared across multiple parts of a program without fear of unintended changes, promoting safer code practices and reliable program behavior.\n",
        "\n",
        "## 11. What advantages do dictionaries offer over lists for certain tasks\n",
        "- Dictionaries provide several advantages over lists, particularly when there’s a need to associate values with unique keys rather than rely on sequential indices. Accessing values in a dictionary is much faster on average because of its hash-based implementation, offering constant-time complexity for lookups, insertions, and deletions. In contrast, finding an item in a list requires traversing its elements, resulting in slower linear time. Dictionaries are ideal for managing structured data like student records, configuration settings, or inventory systems, where each data point is uniquely identified by a key. They improve code clarity and organization in such scenarios.\n",
        "\n",
        "## 12. Describe a scenario where using a tuple would be preferable over a list\n",
        "- A tuple would be preferable over a list in scenarios where the data must remain unchanged throughout the program. For example, when storing a set of fixed configuration values such as days of the week or RGB color values, tuples are ideal because they prevent accidental modification of the data. Additionally, since tuples are hashable when containing only immutable elements, they can be used as keys in dictionaries, unlike lists. This makes them useful for mapping compound keys to values. Their immutability also makes them slightly faster in operations and safer when working with sensitive or constant data.\n",
        "\n",
        "## 13. How do sets handle duplicate values in Python\n",
        "- In Python, sets are collections that automatically enforce uniqueness among their elements. When a new value is added to a set, Python internally checks if it already exists in the collection. If it does, the duplicate is discarded and not added again. This behavior makes sets especially useful for deduplicating data, such as removing repeated entries from a list of user inputs or records. Because of this property, sets are highly efficient for membership testing, with average time complexity of constant time. They also support useful operations like union, intersection, and difference, which benefit from this uniqueness.\n",
        "\n",
        "## 14. How does the in keyword work differently for lists and dictionaries\n",
        "- In Python, the in keyword is used to test for membership in both lists and dictionaries, but it behaves differently for each. When used with a list, in checks whether a specified value exists among the elements of the list. It performs a sequential search from the beginning to the end of the list. In contrast, when used with a dictionary, in checks whether a given key exists in the dictionary, not its values. This check is highly efficient due to the hash table implementation of dictionaries, typically achieving constant-time performance for lookups, unlike the linear time for lists.\n",
        "\n",
        "## 15. Can you modify the elements of a tuple? Explain why or why not\n",
        "- No, the elements of a tuple cannot be modified after the tuple is created. This is because tuples in Python are immutable data types, meaning their content is fixed and cannot be changed. Attempting to add, remove, or alter a tuple’s element will raise a TypeError. This immutability is intentional, ensuring data stored in tuples remains constant and reliable throughout a program’s execution. It provides advantages in safety, performance, and usability, especially in cases where data should be protected from unintended modifications. Tuples can, however, contain mutable objects like lists as elements, though the tuple itself remains unchangeable.\n",
        "\n",
        "## 16. What is a nested dictionary, and give an example of its use case\n",
        "- A nested dictionary is a dictionary where one or more values are themselves dictionaries. This structure allows hierarchical or multi-level data to be stored efficiently in a structured format. It’s particularly useful when representing complex data, such as information about users, products, or configurations, where each entity has its own set of attributes.  \n",
        "```python\n",
        "student = {\n",
        "    \"name\": \"Alex\",\n",
        "    \"grades\": {\n",
        "        \"math\": 90,\n",
        "        \"science\": 85\n",
        "    }\n",
        "}\n",
        "print(student[\"name\"])  # Output: Alex\n",
        "print(student[\"grades\"][\"math\"])  # Output: 90\n",
        "```\n",
        "\n",
        "## 17. Describe the time complexity of accessing elements in a dictionary\n",
        "- Accessing elements in a Python dictionary is highly efficient, with an average-case time complexity of O(1), meaning it takes a constant time to retrieve a value regardless of the dictionary’s size. This performance is achieved through the use of hash tables, where each key is hashed to compute an index where its associated value is stored. In rare cases of hash collisions—when different keys produce the same hash—Python handles the conflict internally, which may degrade performance slightly to O(n) in the worst case. However, such situations are infrequent, making dictionaries extremely performant for lookups.\n",
        "\n",
        "## 18. In what situations are lists preferred over dictionaries\n",
        "- Lists are preferred over dictionaries when the data items need to be stored in a specific order or sequence, or when indexing by position is required rather than by a unique identifier. They are useful for iterating over elements, managing ordered collections like queues, stacks, and menus, or performing operations where the position of an item matters. Lists are also simpler to create and more lightweight in cases where a simple collection of values without a direct key association is sufficient. Additionally, lists are ideal for sorting and slicing operations, which are naturally supported due to their sequential nature.\n",
        "\n",
        "## 19. Why are dictionaries considered unordered, and how does that affect data retrieval\n",
        "- Until Python 3.6, dictionaries were inherently unordered collections, meaning the order of key-value pairs was not preserved. From Python 3.7 onwards, dictionaries maintain insertion order as an implementation detail, though conceptually, they remain unordered as their primary design centers around quick lookups, not sequence. This affects data retrieval in that accessing a value by key is fast and direct but iterating through items does not guarantee any logical sequence unless explicitly managed. Therefore, for order-sensitive data or where item sequence matters, lists or OrderedDict (from collections) were historically preferred, although modern Python preserves order in most cases.\n",
        "\n",
        "## 20. Explain the difference between a list and a dictionary in terms of data retrieval\n",
        "- The main difference between a list and a dictionary in data retrieval lies in how elements are accessed. In a list, data is retrieved using numerical indices, starting from zero. The position of the element in the sequence matters, and accessing an item requires knowing its index. In a dictionary, data is retrieved via unique keys associated with values. The key acts as a label for its corresponding value, making retrieval faster and more direct through hash-based lookups. While lists are suitable for ordered data, dictionaries are best for data identified by meaningful labels or identifiers.\n",
        "\n",
        "\n",
        "\n",
        "\n"
      ],
      "metadata": {
        "id": "MxEsmrvqy2D3"
      }
    },
    {
      "cell_type": "markdown",
      "source": [
        "# Practical Questions\n",
        "---\n",
        "\n",
        "\n"
      ],
      "metadata": {
        "id": "gyZHWgUN0nqC"
      }
    },
    {
      "cell_type": "code",
      "source": [
        "# 1. Write a code to create a string with your name and print it\n",
        "deepesh = \"Deepesh\"\n",
        "print(deepesh)\n",
        "\n"
      ],
      "metadata": {
        "colab": {
          "base_uri": "https://localhost:8080/"
        },
        "id": "DLFCKeRy8ftc",
        "outputId": "e589024f-3db8-4f60-bef0-d797cdceecaa"
      },
      "execution_count": 1,
      "outputs": [
        {
          "output_type": "stream",
          "name": "stdout",
          "text": [
            "Deepesh\n"
          ]
        }
      ]
    },
    {
      "cell_type": "code",
      "source": [
        "# 2. Write a code to find the length of the string \"Hello World\"\n",
        "text = \"Hello World\"\n",
        "print(len(text))\n",
        "\n"
      ],
      "metadata": {
        "colab": {
          "base_uri": "https://localhost:8080/"
        },
        "id": "Ta4gNBR783en",
        "outputId": "e037a5d3-e247-4458-a11f-80804888406e"
      },
      "execution_count": 2,
      "outputs": [
        {
          "output_type": "stream",
          "name": "stdout",
          "text": [
            "11\n"
          ]
        }
      ]
    },
    {
      "cell_type": "code",
      "source": [
        "# 3. Write a code to slice the first 3 characters from the string \"Python Programming\"\n",
        "phrase = \"Python Programming\"\n",
        "print(phrase[0:3])\n"
      ],
      "metadata": {
        "colab": {
          "base_uri": "https://localhost:8080/"
        },
        "id": "qzSY4jLu869J",
        "outputId": "ab55ca96-f017-4b64-e28b-2abf370c24b8"
      },
      "execution_count": 5,
      "outputs": [
        {
          "output_type": "stream",
          "name": "stdout",
          "text": [
            "Pyt\n"
          ]
        }
      ]
    },
    {
      "cell_type": "code",
      "source": [
        "# 4. Write a code to convert the string \"hello\" to uppercase\n",
        "word = \"hello\"\n",
        "print(word.upper())\n"
      ],
      "metadata": {
        "colab": {
          "base_uri": "https://localhost:8080/"
        },
        "id": "Fm3Pj61c9AGp",
        "outputId": "4ee4463a-e2de-4f6b-9b81-211ce609b862"
      },
      "execution_count": 6,
      "outputs": [
        {
          "output_type": "stream",
          "name": "stdout",
          "text": [
            "HELLO\n"
          ]
        }
      ]
    },
    {
      "cell_type": "code",
      "source": [
        "# 5. Write a code to replace the word \"apple\" with \"orange\" in the string \"I like apple\"\n",
        "sentence = \"I like apple\"\n",
        "new_sentence = sentence.replace(\"apple\", \"orange\")\n",
        "print(new_sentence)"
      ],
      "metadata": {
        "colab": {
          "base_uri": "https://localhost:8080/"
        },
        "id": "-Cz0Dqxb9DB4",
        "outputId": "44e813a3-996c-43f6-b591-181432322766"
      },
      "execution_count": 7,
      "outputs": [
        {
          "output_type": "stream",
          "name": "stdout",
          "text": [
            "I like orange\n"
          ]
        }
      ]
    },
    {
      "cell_type": "code",
      "source": [
        "# 6. Write a code to create a list with numbers 1 to 5 and print it\n",
        "numbers = [1, 2, 3, 4, 5]\n",
        "print(numbers)"
      ],
      "metadata": {
        "colab": {
          "base_uri": "https://localhost:8080/"
        },
        "id": "HqVZ9oYt9BNO",
        "outputId": "45263431-837a-4daf-aa16-6eab291dfa71"
      },
      "execution_count": 9,
      "outputs": [
        {
          "output_type": "stream",
          "name": "stdout",
          "text": [
            "[1, 2, 3, 4, 5]\n"
          ]
        }
      ]
    },
    {
      "cell_type": "code",
      "source": [
        "#7.\tWrite a code to append the number 10 to the list [1, 2, 3, 4]\n",
        "lst = [1, 2, 3, 4]\n",
        "lst.append(10)\n",
        "print(lst)"
      ],
      "metadata": {
        "colab": {
          "base_uri": "https://localhost:8080/"
        },
        "id": "1QxJLsWO9zas",
        "outputId": "5153e6a8-81f5-46d0-f615-e6342b223937"
      },
      "execution_count": 10,
      "outputs": [
        {
          "output_type": "stream",
          "name": "stdout",
          "text": [
            "[1, 2, 3, 4, 10]\n"
          ]
        }
      ]
    },
    {
      "cell_type": "code",
      "source": [
        "#8.\tWrite a code to remove the number 3 from the list [1, 2, 3, 4, 5]\n",
        "lst2 = [1, 2, 3, 4, 5]\n",
        "lst2.remove(3)\n",
        "print(lst2)"
      ],
      "metadata": {
        "colab": {
          "base_uri": "https://localhost:8080/"
        },
        "id": "zIbLs1B_-y5_",
        "outputId": "cea74227-cbb5-4616-eabe-57b182916246"
      },
      "execution_count": 11,
      "outputs": [
        {
          "output_type": "stream",
          "name": "stdout",
          "text": [
            "[1, 2, 4, 5]\n"
          ]
        }
      ]
    },
    {
      "cell_type": "code",
      "source": [
        "#9.\tWrite a code to access the second element in the list ['a', 'b', 'c', 'd']\n",
        "letters = ['a', 'b', 'c', 'd']\n",
        "print(letters[1])"
      ],
      "metadata": {
        "colab": {
          "base_uri": "https://localhost:8080/"
        },
        "id": "Vs9Y53iR-1BV",
        "outputId": "013c2066-fc0a-4a0f-d32c-20cd89172311"
      },
      "execution_count": 12,
      "outputs": [
        {
          "output_type": "stream",
          "name": "stdout",
          "text": [
            "b\n"
          ]
        }
      ]
    },
    {
      "cell_type": "code",
      "source": [
        "#10.\tWrite a code to reverse the list [10, 20, 30, 40, 50]\n",
        "nums = [10, 20, 30, 40, 50]\n",
        "nums.reverse()\n",
        "print(nums)"
      ],
      "metadata": {
        "colab": {
          "base_uri": "https://localhost:8080/"
        },
        "id": "w74hHdKg-3LQ",
        "outputId": "a5b4d9df-f81f-4f82-9327-dac370014ecd"
      },
      "execution_count": 13,
      "outputs": [
        {
          "output_type": "stream",
          "name": "stdout",
          "text": [
            "[50, 40, 30, 20, 10]\n"
          ]
        }
      ]
    },
    {
      "cell_type": "code",
      "source": [
        "#11.\tWrite a code to create a tuple with the elements 100, 200, 300 and print it\n",
        "my_tuple = (100, 200, 300)\n",
        "print(my_tuple)"
      ],
      "metadata": {
        "colab": {
          "base_uri": "https://localhost:8080/"
        },
        "id": "E0EGtrxE-9h8",
        "outputId": "230a4ba4-2afe-4e0e-c369-72ee7b8bffc5"
      },
      "execution_count": 14,
      "outputs": [
        {
          "output_type": "stream",
          "name": "stdout",
          "text": [
            "(100, 200, 300)\n"
          ]
        }
      ]
    },
    {
      "cell_type": "code",
      "source": [
        "#12.\tWrite a code to access the second-to-last element of the tuple ('red', 'green', 'blue', 'yellow')\n",
        "colors = ('red', 'green', 'blue', 'yellow')\n",
        "print(colors[-2])"
      ],
      "metadata": {
        "colab": {
          "base_uri": "https://localhost:8080/"
        },
        "id": "RPT5oIFT-_-x",
        "outputId": "700ae48d-923e-451d-ee4f-fb4540b78bc5"
      },
      "execution_count": 15,
      "outputs": [
        {
          "output_type": "stream",
          "name": "stdout",
          "text": [
            "blue\n"
          ]
        }
      ]
    },
    {
      "cell_type": "code",
      "source": [
        "#13.\tWrite a code to find the minimum number in the tuple (10, 20, 5, 15)\n",
        "numbers = (10, 20, 5, 15)\n",
        "print(min(numbers))"
      ],
      "metadata": {
        "colab": {
          "base_uri": "https://localhost:8080/"
        },
        "id": "deWYbrgn_Cj7",
        "outputId": "c6a08435-41c6-4e26-d85d-5a82c5ca3986"
      },
      "execution_count": 16,
      "outputs": [
        {
          "output_type": "stream",
          "name": "stdout",
          "text": [
            "5\n"
          ]
        }
      ]
    },
    {
      "cell_type": "code",
      "source": [
        "#14.\tWrite a code to find the index of the element \"cat\" in the tuple ('dog', 'cat', 'rabbit')\n",
        "animals = ('dog', 'cat', 'rabbit')\n",
        "print(animals.index('cat'))"
      ],
      "metadata": {
        "colab": {
          "base_uri": "https://localhost:8080/"
        },
        "id": "E_L0soT0_FK6",
        "outputId": "845fa6b4-7e32-4443-cb71-5d2d523d8bfb"
      },
      "execution_count": 17,
      "outputs": [
        {
          "output_type": "stream",
          "name": "stdout",
          "text": [
            "1\n"
          ]
        }
      ]
    },
    {
      "cell_type": "code",
      "source": [
        "#15.\tWrite a code to create a tuple containing three different fruits and check if \"kiwi\" is in it\n",
        "fruits = ('apple', 'banana', 'mango')\n",
        "print('kiwi' in fruits)\n",
        "fruits = ('apple', 'kiwi', 'mango')\n",
        "print('kiwi' in fruits)"
      ],
      "metadata": {
        "colab": {
          "base_uri": "https://localhost:8080/"
        },
        "id": "ItsNXj4J_HtG",
        "outputId": "c2172526-69bc-4fcb-8382-7b572d6c9ecd"
      },
      "execution_count": 20,
      "outputs": [
        {
          "output_type": "stream",
          "name": "stdout",
          "text": [
            "False\n",
            "True\n"
          ]
        }
      ]
    },
    {
      "cell_type": "code",
      "source": [
        "#16.\tWrite a code to create a set with the elements 'a', 'b', 'c' and print it\n",
        "my_set = {'a', 'b', 'c','a'}\n",
        "print(my_set)"
      ],
      "metadata": {
        "colab": {
          "base_uri": "https://localhost:8080/"
        },
        "id": "g4NMul7Q_MG3",
        "outputId": "15b5ed9f-12e8-42b5-94aa-6af55ab23ea5"
      },
      "execution_count": 21,
      "outputs": [
        {
          "output_type": "stream",
          "name": "stdout",
          "text": [
            "{'a', 'b', 'c'}\n"
          ]
        }
      ]
    },
    {
      "cell_type": "code",
      "source": [
        "#17.\tWrite a code to clear all elements from the set {1, 2, 3, 4, 5}\n",
        "s = {1, 2, 3, 4, 5}\n",
        "s.clear()\n",
        "print(s)"
      ],
      "metadata": {
        "colab": {
          "base_uri": "https://localhost:8080/"
        },
        "id": "tFnyg4euAHoV",
        "outputId": "48b2140b-e4f3-4ef2-ca6a-67e34dfa0924"
      },
      "execution_count": 22,
      "outputs": [
        {
          "output_type": "stream",
          "name": "stdout",
          "text": [
            "set()\n"
          ]
        }
      ]
    },
    {
      "cell_type": "code",
      "source": [
        "#18.\tWrite a code to remove the element 4 from the set {1, 2, 3, 4}\n",
        "s = {1, 2, 3, 4}\n",
        "s.remove(4)\n",
        "print(s)"
      ],
      "metadata": {
        "colab": {
          "base_uri": "https://localhost:8080/"
        },
        "id": "8QaWQcJ3Bc71",
        "outputId": "aa13ce61-1119-40ee-96c8-83ce23837dcc"
      },
      "execution_count": 23,
      "outputs": [
        {
          "output_type": "stream",
          "name": "stdout",
          "text": [
            "{1, 2, 3}\n"
          ]
        }
      ]
    },
    {
      "cell_type": "code",
      "source": [
        "#19.\tWrite a code to find the union of two sets {1, 2, 3} and {3, 4, 5}\n",
        "a = {1, 2, 3}\n",
        "b = {3, 4, 5}\n",
        "print(a.union(b))"
      ],
      "metadata": {
        "colab": {
          "base_uri": "https://localhost:8080/"
        },
        "id": "Jrp480v0BiGz",
        "outputId": "952200fc-a050-4707-8a24-cbb743e36782"
      },
      "execution_count": 24,
      "outputs": [
        {
          "output_type": "stream",
          "name": "stdout",
          "text": [
            "{1, 2, 3, 4, 5}\n"
          ]
        }
      ]
    },
    {
      "cell_type": "code",
      "source": [
        "#20.\tWrite a code to find the intersection of two sets {1, 2, 3} and {2, 3, 4}\n",
        "a = {1, 2, 3}\n",
        "b = {2, 3, 4}\n",
        "print(a.intersection(b))"
      ],
      "metadata": {
        "colab": {
          "base_uri": "https://localhost:8080/"
        },
        "id": "TC183ZtcBlb1",
        "outputId": "cb3523a5-8a82-4914-de45-9e6447c1ed66"
      },
      "execution_count": 25,
      "outputs": [
        {
          "output_type": "stream",
          "name": "stdout",
          "text": [
            "{2, 3}\n"
          ]
        }
      ]
    },
    {
      "cell_type": "code",
      "source": [
        "#21.\tWrite a code to create a dictionary with the keys \"name\", \"age\", and \"city\", and print it\n",
        "info = {\"name\": \"John\", \"age\": 25, \"city\": \"New York\"}\n",
        "print(info)"
      ],
      "metadata": {
        "colab": {
          "base_uri": "https://localhost:8080/"
        },
        "id": "IyLOU1ofBoJ_",
        "outputId": "f502f92d-1db6-4228-9afd-b1410ffd6bcb"
      },
      "execution_count": 26,
      "outputs": [
        {
          "output_type": "stream",
          "name": "stdout",
          "text": [
            "{'name': 'John', 'age': 25, 'city': 'New York'}\n"
          ]
        }
      ]
    },
    {
      "cell_type": "code",
      "source": [
        "#22.\tWrite a code to add a new key-value pair \"country\": \"USA\" to the dictionary {'name': 'John', 'age': 25}\n",
        "person = {'name': 'John', 'age': 25}\n",
        "person[\"country\"] = \"USA\"\n",
        "print(person)"
      ],
      "metadata": {
        "colab": {
          "base_uri": "https://localhost:8080/"
        },
        "id": "OsNsYacWBqli",
        "outputId": "0c37426e-9200-49e5-81b1-0316375a3e01"
      },
      "execution_count": 28,
      "outputs": [
        {
          "output_type": "stream",
          "name": "stdout",
          "text": [
            "{'name': 'John', 'age': 25, 'country': 'USA'}\n"
          ]
        }
      ]
    },
    {
      "cell_type": "code",
      "source": [
        "#23.\tWrite a code to access the value associated with the key \"name\" in the dictionary {'name': 'Alice', 'age': 30}\n",
        "data = {'name': 'Alice', 'age': 30}\n",
        "print(data['name'])"
      ],
      "metadata": {
        "colab": {
          "base_uri": "https://localhost:8080/"
        },
        "id": "93evIMMuBtAt",
        "outputId": "6bc39085-e14d-4bd2-94cb-b5cdfae929b4"
      },
      "execution_count": 29,
      "outputs": [
        {
          "output_type": "stream",
          "name": "stdout",
          "text": [
            "Alice\n"
          ]
        }
      ]
    },
    {
      "cell_type": "code",
      "source": [
        "#24.\tWrite a code to remove the key \"age\" from the dictionary {'name': 'Bob', 'age': 22, 'city': 'New York'}\n",
        "profile = {'name': 'Bob', 'age': 22, 'city': 'New York'}\n",
        "del profile['age']\n",
        "print(profile)"
      ],
      "metadata": {
        "colab": {
          "base_uri": "https://localhost:8080/"
        },
        "id": "JeB7H2RQBvhg",
        "outputId": "1f286a9f-8614-4854-aab1-6fecb2b0ec69"
      },
      "execution_count": 30,
      "outputs": [
        {
          "output_type": "stream",
          "name": "stdout",
          "text": [
            "{'name': 'Bob', 'city': 'New York'}\n"
          ]
        }
      ]
    },
    {
      "cell_type": "code",
      "source": [
        "#25.\tWrite a code to check if the key \"city\" exists in the dictionary {'name': 'Alice', 'city': 'Paris'}\n",
        "details = {'name': 'Alice', 'city': 'Paris'}\n",
        "print('city' in details)"
      ],
      "metadata": {
        "colab": {
          "base_uri": "https://localhost:8080/"
        },
        "id": "_AJTV8ykByDj",
        "outputId": "f85571f5-e8e4-4462-9ef8-d7fde7ebdf08"
      },
      "execution_count": 31,
      "outputs": [
        {
          "output_type": "stream",
          "name": "stdout",
          "text": [
            "True\n"
          ]
        }
      ]
    },
    {
      "cell_type": "code",
      "source": [
        "#26.\tWrite a code to create a list, a tuple, and a dictionary, and print them all\n",
        "my_list = [1, 2, 3]\n",
        "my_tuple = (4, 5, 6)\n",
        "my_dict = {\"a\": 10, \"b\": 20}\n",
        "print(my_list, my_tuple, my_dict)"
      ],
      "metadata": {
        "colab": {
          "base_uri": "https://localhost:8080/"
        },
        "id": "9qu7JWkDBz_m",
        "outputId": "b38b3d73-5d2a-4fcb-921f-70d9c88d93c4"
      },
      "execution_count": 32,
      "outputs": [
        {
          "output_type": "stream",
          "name": "stdout",
          "text": [
            "[1, 2, 3] (4, 5, 6) {'a': 10, 'b': 20}\n"
          ]
        }
      ]
    },
    {
      "cell_type": "code",
      "source": [
        "#27.\tWrite a code to create a list of 5 random numbers between 1 and 100, sort it in ascending order, and print the result\n",
        "import random\n",
        "numbers = random.sample(range(1, 101), 5)\n",
        "numbers.sort()\n",
        "print(numbers)"
      ],
      "metadata": {
        "colab": {
          "base_uri": "https://localhost:8080/"
        },
        "id": "89J6nK4BB2BC",
        "outputId": "9acb68a4-b5ab-493f-ee7a-c8350825c08c"
      },
      "execution_count": 33,
      "outputs": [
        {
          "output_type": "stream",
          "name": "stdout",
          "text": [
            "[2, 28, 34, 57, 77]\n"
          ]
        }
      ]
    },
    {
      "cell_type": "code",
      "source": [
        "#28.\tWrite a code to create a list with strings and print the element at the third index\n",
        "words = [\"apple\", \"banana\", \"cherry\", \"date\", \"fig\"]\n",
        "print(words[3])"
      ],
      "metadata": {
        "colab": {
          "base_uri": "https://localhost:8080/"
        },
        "id": "u53kvsyjB41T",
        "outputId": "3750ca68-09b9-4e6a-e139-2ac1e28e0910"
      },
      "execution_count": 34,
      "outputs": [
        {
          "output_type": "stream",
          "name": "stdout",
          "text": [
            "date\n"
          ]
        }
      ]
    },
    {
      "cell_type": "code",
      "source": [
        "#29.\tWrite a code to combine two dictionaries into one and print the result\n",
        "d1 = {\"a\": 1, \"b\": 2}\n",
        "print(d1)\n",
        "d2 = {\"c\": 3, \"d\": 4}\n",
        "print(d2)\n",
        "d1.update(d2)\n",
        "print(d1)"
      ],
      "metadata": {
        "colab": {
          "base_uri": "https://localhost:8080/"
        },
        "id": "h6-r4iZBB7WA",
        "outputId": "e1723889-0d63-4dc0-ce8a-83646e995199"
      },
      "execution_count": 38,
      "outputs": [
        {
          "output_type": "stream",
          "name": "stdout",
          "text": [
            "{'a': 1, 'b': 2}\n",
            "{'c': 3, 'd': 4}\n",
            "{'a': 1, 'b': 2, 'c': 3, 'd': 4}\n"
          ]
        }
      ]
    },
    {
      "cell_type": "code",
      "source": [
        "#30.\tWrite a code to convert a list of strings into a set\n",
        "string_list = [\"apple\", \"banana\", \"apple\", \"mango\"]\n",
        "string_set = set(string_list)\n",
        "print(string_set)"
      ],
      "metadata": {
        "colab": {
          "base_uri": "https://localhost:8080/"
        },
        "id": "EXtmfpvNB9hv",
        "outputId": "ed47da64-736a-4fcf-f15d-41309946a509"
      },
      "execution_count": 39,
      "outputs": [
        {
          "output_type": "stream",
          "name": "stdout",
          "text": [
            "{'apple', 'mango', 'banana'}\n"
          ]
        }
      ]
    }
  ]
}