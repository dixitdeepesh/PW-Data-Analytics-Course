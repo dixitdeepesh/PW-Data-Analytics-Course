{
  "nbformat": 4,
  "nbformat_minor": 0,
  "metadata": {
    "colab": {
      "provenance": []
    },
    "kernelspec": {
      "name": "python3",
      "display_name": "Python 3"
    },
    "language_info": {
      "name": "python"
    }
  },
  "cells": [
    {
      "cell_type": "markdown",
      "source": [
        "# Python Basics- Assignment\n",
        "\n",
        "---\n",
        "\n",
        "## 1. What is Python, and why is it popular?\n",
        "\n",
        "  - Python is a high-level, interpreted, general-purpose programming language known for its simplicity and versatility. Created by Guido van Rossum in 1991, it emphasizes code readability with an easy-to-learn syntax.  \n",
        "  - **Why Popular?**\n",
        "   - Beginner-friendly  \n",
        "   - Large standard libraries and frameworks  \n",
        "   - Versatile: web dev, data science, AI, automation  \n",
        "   - Platform-independent and open-source  \n",
        "   - Large, active community\n",
        "\n",
        "\n",
        "\n",
        "## 2. What is an interpreter in Python?\n",
        "\n",
        "- An interpreter is a program that reads and executes code line-by-line. Unlike compiled languages, where code is first converted to machine code, Python executes code directly, making debugging easier and faster to test scripts.\n",
        "\n",
        "\n",
        "\n",
        "## 3️. What are pre-defined keywords in Python?\n",
        "\n",
        "- Keywords are reserved words with special meanings in Python’s syntax.  \n",
        "Examples:  \n",
        " `if`, `else`, `elif`, `for`, `while`, `import`, `def`, `class`  \n",
        " They cannot be used as variable names.\n",
        "\n",
        "\n",
        "\n",
        "## 4. Can keywords be used as variable names?\n",
        "\n",
        "- No. Keywords like `for`, `if`, `else` are reserved for specific syntax use and cannot be redefined as variable names in Python code.\n",
        "\n",
        "\n",
        "## 5️. What is mutability in Python?\n",
        "\n",
        "- Mutability defines if an object can be modified after its creation.  \n",
        "  - **Mutable:** List, Dictionary  \n",
        "  - **Immutable:** Tuple, String, Integer  \n",
        "\n",
        "\n",
        "\n",
        "## 6️. Why are lists mutable, but tuples are immutable?\n",
        "\n",
        "- **Lists:** Elements can be modified after creation — dynamic.\n",
        "- **Tuples:** Fixed once created, ensuring data integrity and enabling their use as dictionary keys.\n",
        "\n",
        "\n",
        "\n",
        "## 7️. Difference between `==` and `is` operators\n",
        "\n",
        "- `==` compares **values**\n",
        "- `is` checks if both variables refer to the **same memory object**  \n",
        "```\n",
        "a = [1, 2]\n",
        "b = [1, 2]\n",
        "print(a == b)  # True\n",
        "print(a is b)  # False\n",
        "```\n",
        "\n",
        "## 8️. What are Logical Operators in Python?\n",
        "\n",
        "- Logical operators are used to combine conditional statements:\n",
        "\n",
        " - **and** → True if both conditions are true.\n",
        " - **or** → True if at least one condition is true.\n",
        " - **not** → Inverts the boolean value.  \n",
        "\n",
        " **Example:**\n",
        " ```\n",
        "a = 10\n",
        "b = 20\n",
        "if a > 0 and b > 0:\n",
        "    print(\"Both positive\")\n",
        "```\n",
        "\n",
        "\n",
        "## 9️. What is Type Casting in Python?\n",
        "\n",
        "- Type casting converts one data type to another.\n",
        "\n",
        " - **Implicit casting**: Automatically converts when no data loss is possible.\n",
        " - **Explicit casting**: Manually converts using functions like `int()`, `float()`, `str()`  \n",
        "\n",
        " **Example:**\n",
        "```\n",
        "a = \"5\"\n",
        "b = int(a)\n",
        "print(type(b))  # Output: <class 'int'>\n",
        "```\n",
        "\n",
        "\n",
        "## 10. What is the Difference Between Implicit and Explicit Type Casting?\n",
        "\n",
        " - **Implicit Type Casting:** Python automatically converts smaller data types to larger ones without programmer intervention.\n",
        " **Explicit Type Casting:** Programmer manually converts using functions\n",
        "  \n",
        "  **Examples:**  \n",
        "  ```\n",
        "Implicit\n",
        "x = 5\n",
        "y = 2.0\n",
        "z = x + y  # x is implicitly converted to float\n",
        "print(z)\n",
        "```\n",
        "```\n",
        "Explicit\n",
        "a = \"123\"\n",
        "b = int(a)\n",
        "print(b)\n",
        "```\n",
        "\n",
        "## 11. What is the Purpose of Conditional Statements in Python?\n",
        "\n",
        "- Conditional statements control the program’s flow by executing specific code blocks based on defined conditions.  \n",
        "Statements like `if`, `elif`, and `else` help make decisions and perform different actions under different scenarios, making the program interactive and dynamic.\n",
        "\n",
        "## 1️2. How Does the elif Statement Work?\n",
        "\n",
        "- The `elif` statement stands for **else if**. It checks multiple expressions for `True` and executes the code block for the first true condition. If no condition is true, the `else` block executes.  \n",
        " **Example:**\n",
        " ```\n",
        " x = 10\n",
        "if x > 0:\n",
        "    print(\"Positive\")\n",
        "elif x == 0:\n",
        "    print(\"Zero\")\n",
        "else:\n",
        "    print(\"Negative\")\n",
        "\n",
        "   ```\n",
        "\n",
        "## 1️3. What is the Difference Between for and while Loops?\n",
        "\n",
        "- **for loop:** Iterates over a sequence (list, string, range) for a fixed number of times.\n",
        "- **while loop:** Runs repeatedly as long as a condition remains `True`. Used when the number of iterations is unknown beforehand.\n",
        "\n",
        "## 14. When is a while Loop More Suitable Than a for Loop?\n",
        "\n",
        "- A `while` loop is preferable when the number of iterations isn’t known in advance and depends on runtime conditions.  \n",
        " **Example:**\n",
        "\n",
        " ```\n",
        " user_input = \"\"\n",
        "while user_input != 'exit':\n",
        "    user_input = input(\"Enter something (type 'exit' to quit): \")\n",
        "    ```"
      ],
      "metadata": {
        "id": "8T0IEEabP1pg"
      }
    },
    {
      "cell_type": "markdown",
      "source": [
        "# Python Basics — Practical Questions\n",
        "\n",
        "---\n",
        "### 1.\tWrite a Python program to print \"Hello, World!\"\n",
        "\n",
        "\n"
      ],
      "metadata": {
        "id": "J3nw5ZjTVl6d"
      }
    },
    {
      "cell_type": "code",
      "source": [
        "print (\"Hello, World!\")"
      ],
      "metadata": {
        "colab": {
          "base_uri": "https://localhost:8080/"
        },
        "id": "su-OcxEcY4HO",
        "outputId": "91253b87-abdd-44a9-cd3d-fc9a3ddbcda3"
      },
      "execution_count": 1,
      "outputs": [
        {
          "output_type": "stream",
          "name": "stdout",
          "text": [
            "Hello, World!\n"
          ]
        }
      ]
    },
    {
      "cell_type": "markdown",
      "source": [
        "### 2.\tWrite a Python program that displays your name and age\n"
      ],
      "metadata": {
        "id": "qZyGDcZwYZlS"
      }
    },
    {
      "cell_type": "code",
      "source": [
        "name = \"Deepesh\"\n",
        "age = 25\n",
        "print(\"Name:\", name)\n",
        "print(\"Age:\", age)"
      ],
      "metadata": {
        "colab": {
          "base_uri": "https://localhost:8080/"
        },
        "id": "rAptZw7yZIr5",
        "outputId": "a6b099be-ba1d-423a-8cea-b9cc2cd73ac0"
      },
      "execution_count": 2,
      "outputs": [
        {
          "output_type": "stream",
          "name": "stdout",
          "text": [
            "Name: Deepesh\n",
            "Age: 25\n"
          ]
        }
      ]
    },
    {
      "cell_type": "markdown",
      "source": [
        "### 3.\tWrite code to print all the pre-defined keywords in Python using the keyword library\n"
      ],
      "metadata": {
        "id": "ZmhZ66RNYb5r"
      }
    },
    {
      "cell_type": "code",
      "source": [
        "import keyword\n",
        "print(keyword.kwlist)"
      ],
      "metadata": {
        "colab": {
          "base_uri": "https://localhost:8080/"
        },
        "id": "3zx8RLotZNcF",
        "outputId": "a0bcebff-b6cd-4239-b537-779979d3b9ab"
      },
      "execution_count": 3,
      "outputs": [
        {
          "output_type": "stream",
          "name": "stdout",
          "text": [
            "['False', 'None', 'True', 'and', 'as', 'assert', 'async', 'await', 'break', 'class', 'continue', 'def', 'del', 'elif', 'else', 'except', 'finally', 'for', 'from', 'global', 'if', 'import', 'in', 'is', 'lambda', 'nonlocal', 'not', 'or', 'pass', 'raise', 'return', 'try', 'while', 'with', 'yield']\n"
          ]
        }
      ]
    },
    {
      "cell_type": "markdown",
      "source": [
        "### 4.\tWrite a program that checks if a given word is a Python keyword\n"
      ],
      "metadata": {
        "id": "9fQ9GAjKYdfb"
      }
    },
    {
      "cell_type": "code",
      "source": [
        "word = input(\"Enter a word: \")\n",
        "import keyword\n",
        "print(f\"Is '{word}' a keyword?\", keyword.iskeyword(word))"
      ],
      "metadata": {
        "colab": {
          "base_uri": "https://localhost:8080/"
        },
        "id": "ZjvolXE9ZPsm",
        "outputId": "a7959f6c-268c-4696-a681-286765fbee1b"
      },
      "execution_count": 6,
      "outputs": [
        {
          "output_type": "stream",
          "name": "stdout",
          "text": [
            "Enter a word: None\n",
            "Is 'None' a keyword? True\n"
          ]
        }
      ]
    },
    {
      "cell_type": "markdown",
      "source": [
        "### 5.\tCreate a list and tuple in Python, and demonstrate how attempting to change an element works differently for each\n"
      ],
      "metadata": {
        "id": "P9W79kosYfFK"
      }
    },
    {
      "cell_type": "code",
      "source": [
        "my_list = [1, 2, 3]\n",
        "my_tuple = (1, 2, 3)\n",
        "my_list[0] = 100\n",
        "print(my_list)\n",
        "my_tuple[0]\n"
      ],
      "metadata": {
        "colab": {
          "base_uri": "https://localhost:8080/"
        },
        "id": "zzFZ4yx_ZfDZ",
        "outputId": "3506d9bd-bb56-47c2-c9e3-8962abc390bc"
      },
      "execution_count": 9,
      "outputs": [
        {
          "output_type": "stream",
          "name": "stdout",
          "text": [
            "[100, 2, 3]\n"
          ]
        },
        {
          "output_type": "execute_result",
          "data": {
            "text/plain": [
              "1"
            ]
          },
          "metadata": {},
          "execution_count": 9
        }
      ]
    },
    {
      "cell_type": "markdown",
      "source": [
        "### 6.\tWrite a function to demonstrate the behavior of mutable and immutable arguments\n"
      ],
      "metadata": {
        "id": "TSMoGXyeYgxY"
      }
    },
    {
      "cell_type": "code",
      "source": [
        "def modify(num, my_list):\n",
        "    num += 10\n",
        "    my_list.append(10)\n",
        "\n",
        "x = 5\n",
        "lst = [1, 2]\n",
        "modify(x, lst)\n",
        "print(x)\n",
        "print(lst)"
      ],
      "metadata": {
        "colab": {
          "base_uri": "https://localhost:8080/"
        },
        "id": "Yp3Ue3zaZumQ",
        "outputId": "35faa8d6-a4da-4888-956f-fe6f28f2e50e"
      },
      "execution_count": 10,
      "outputs": [
        {
          "output_type": "stream",
          "name": "stdout",
          "text": [
            "5\n",
            "[1, 2, 10]\n"
          ]
        }
      ]
    },
    {
      "cell_type": "markdown",
      "source": [
        "### 7.\tWrite a program that performs basic arithmetic operations on two user-input numbers\n"
      ],
      "metadata": {
        "id": "Ybw3vF0bYjrG"
      }
    },
    {
      "cell_type": "code",
      "source": [
        "a = int(input(\"Enter first number: \"))\n",
        "b = int(input(\"Enter second number: \"))\n",
        "print(\"Sum:\", a + b)\n",
        "print(\"Difference:\", a - b)\n",
        "print(\"Product:\", a * b)\n",
        "print(\"Quotient:\", a / b)"
      ],
      "metadata": {
        "colab": {
          "base_uri": "https://localhost:8080/"
        },
        "id": "T68Dl-C5aA3w",
        "outputId": "c225daa2-e23c-4ae3-dca6-73491f2039a2"
      },
      "execution_count": 11,
      "outputs": [
        {
          "output_type": "stream",
          "name": "stdout",
          "text": [
            "Enter first number: 2\n",
            "Enter second number: 10\n",
            "Sum: 12\n",
            "Difference: -8\n",
            "Product: 20\n",
            "Quotient: 0.2\n"
          ]
        }
      ]
    },
    {
      "cell_type": "markdown",
      "source": [
        "### 8.\tWrite a program to demonstrate the use of logical operators\n"
      ],
      "metadata": {
        "id": "BNDiHkvyYmTu"
      }
    },
    {
      "cell_type": "code",
      "source": [
        "a, b = 10, 20\n",
        "print(a > 5 and b > 5)\n",
        "print(a > 5 or b < 5)\n",
        "print(not (a > 5))"
      ],
      "metadata": {
        "colab": {
          "base_uri": "https://localhost:8080/"
        },
        "id": "gho9hekoaHHk",
        "outputId": "560c7c4e-b182-49b3-a33a-fd5f1521a274"
      },
      "execution_count": 12,
      "outputs": [
        {
          "output_type": "stream",
          "name": "stdout",
          "text": [
            "True\n",
            "True\n",
            "False\n"
          ]
        }
      ]
    },
    {
      "cell_type": "markdown",
      "source": [
        "### 9.\tWrite a Python program to convert user input from string to integer, float, and boolean types\n"
      ],
      "metadata": {
        "id": "5-nCgv_wYoLz"
      }
    },
    {
      "cell_type": "code",
      "source": [
        "val = input(\"Enter a number: \")\n",
        "print(int(val))\n",
        "print(float(val))\n",
        "print(bool(val))"
      ],
      "metadata": {
        "colab": {
          "base_uri": "https://localhost:8080/"
        },
        "id": "6UVqiR78aK07",
        "outputId": "b05f5ab6-a0c0-462c-9b39-4cb9e7fc42e0"
      },
      "execution_count": 13,
      "outputs": [
        {
          "output_type": "stream",
          "name": "stdout",
          "text": [
            "Enter a number: 20\n",
            "20\n",
            "20.0\n",
            "True\n"
          ]
        }
      ]
    },
    {
      "cell_type": "markdown",
      "source": [
        "### 10.\tWrite code to demonstrate type casting with list elements\n"
      ],
      "metadata": {
        "id": "s9CXXi53YqMm"
      }
    },
    {
      "cell_type": "code",
      "source": [
        "my_list = ['1', '2', '3']\n",
        "my_list = list(map(int, my_list))\n",
        "print(my_list)"
      ],
      "metadata": {
        "colab": {
          "base_uri": "https://localhost:8080/"
        },
        "id": "gGNxGuHFaRmK",
        "outputId": "ddd13445-1eda-4626-eaf7-cc6a736ee39a"
      },
      "execution_count": 14,
      "outputs": [
        {
          "output_type": "stream",
          "name": "stdout",
          "text": [
            "[1, 2, 3]\n"
          ]
        }
      ]
    },
    {
      "cell_type": "markdown",
      "source": [
        "### 11.\tWrite a program that checks if a number is positive, negative, or zero\n"
      ],
      "metadata": {
        "id": "XNfE97pJYsLZ"
      }
    },
    {
      "cell_type": "code",
      "source": [
        "num = int(input(\"Enter a number: \"))\n",
        "if num > 0:\n",
        "    print(\"Positive\")\n",
        "elif num < 0:\n",
        "    print(\"Negative\")\n",
        "else:\n",
        "    print(\"Zero\")"
      ],
      "metadata": {
        "colab": {
          "base_uri": "https://localhost:8080/"
        },
        "id": "g7mLWxZTaVtz",
        "outputId": "804d0694-58dc-4d00-d7d0-dc8523500d17"
      },
      "execution_count": 16,
      "outputs": [
        {
          "output_type": "stream",
          "name": "stdout",
          "text": [
            "Enter a number: 0\n",
            "Zero\n"
          ]
        }
      ]
    },
    {
      "cell_type": "markdown",
      "source": [
        "### 12.\tWrite a for loop to print numbers from 1 to 10\n"
      ],
      "metadata": {
        "id": "Rfa7b6yUYt1r"
      }
    },
    {
      "cell_type": "code",
      "source": [
        "for i in range(1, 11):\n",
        "    print(i)\n",
        ""
      ],
      "metadata": {
        "colab": {
          "base_uri": "https://localhost:8080/"
        },
        "id": "flOGI8rlaa6l",
        "outputId": "eccfd6a6-89f7-406d-acc5-b73ef008ae4e"
      },
      "execution_count": 17,
      "outputs": [
        {
          "output_type": "stream",
          "name": "stdout",
          "text": [
            "1\n",
            "2\n",
            "3\n",
            "4\n",
            "5\n",
            "6\n",
            "7\n",
            "8\n",
            "9\n",
            "10\n"
          ]
        }
      ]
    },
    {
      "cell_type": "markdown",
      "source": [
        "### 13.\tWrite a Python program to find the sum of all even numbers between 1 and 50\n"
      ],
      "metadata": {
        "id": "NfBuoVPBYvs-"
      }
    },
    {
      "cell_type": "code",
      "source": [
        "total = 0\n",
        "for i in range(1, 51):\n",
        "    if i % 2 == 0:\n",
        "        total += i\n",
        "print(\"Sum of even numbers:\", total)"
      ],
      "metadata": {
        "colab": {
          "base_uri": "https://localhost:8080/"
        },
        "id": "VdmrUzqhagrp",
        "outputId": "dff61183-ec4f-4079-9a3d-45874276b938"
      },
      "execution_count": 18,
      "outputs": [
        {
          "output_type": "stream",
          "name": "stdout",
          "text": [
            "Sum of even numbers: 650\n"
          ]
        }
      ]
    },
    {
      "cell_type": "markdown",
      "source": [
        "### 14.\tWrite a program to reverse a string using a while loop\n"
      ],
      "metadata": {
        "id": "ZzRVDaH0YxUx"
      }
    },
    {
      "cell_type": "code",
      "source": [
        "text = input(\"Enter string: \")\n",
        "reversed_text = \"\"\n",
        "i = len(text) - 1\n",
        "while i >= 0:\n",
        "    reversed_text += text[i]\n",
        "    i -= 1\n",
        "print(reversed_text)"
      ],
      "metadata": {
        "colab": {
          "base_uri": "https://localhost:8080/"
        },
        "id": "ECw-p-HEajAV",
        "outputId": "beda8811-d377-47ca-e0e7-951020cecff7"
      },
      "execution_count": 21,
      "outputs": [
        {
          "output_type": "stream",
          "name": "stdout",
          "text": [
            "Enter string: Deepesh\n",
            "hsepeeD\n"
          ]
        }
      ]
    },
    {
      "cell_type": "markdown",
      "source": [
        "### 15.\tWrite a Python program to calculate the factorial of a number provided by the user using a while loop"
      ],
      "metadata": {
        "id": "FLIrw0m5YzAB"
      }
    },
    {
      "cell_type": "code",
      "source": [
        "num = int(input(\"Enter a number: \"))\n",
        "\n",
        "\n",
        "if num < 0:\n",
        "    print(\"Sorry, factorial does not exist for negative numbers.\")\n",
        "else:\n",
        "    factorial = 1\n",
        "    while num > 0:\n",
        "        factorial *= num\n",
        "        num -= 1\n",
        "    print(\"Factorial is:\", factorial)"
      ],
      "metadata": {
        "colab": {
          "base_uri": "https://localhost:8080/"
        },
        "id": "6RlZlx2Hanyv",
        "outputId": "5947ebe7-125f-43d6-d176-8d2835720884"
      },
      "execution_count": 24,
      "outputs": [
        {
          "output_type": "stream",
          "name": "stdout",
          "text": [
            "Enter a number: 5\n",
            "Factorial is: 120\n"
          ]
        }
      ]
    },
    {
      "cell_type": "code",
      "source": [],
      "metadata": {
        "id": "XAil8KQ4azHh"
      },
      "execution_count": null,
      "outputs": []
    }
  ]
}